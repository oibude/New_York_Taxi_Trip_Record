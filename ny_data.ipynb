{
 "cells": [
  {
   "cell_type": "code",
   "execution_count": 1,
   "metadata": {},
   "outputs": [],
   "source": [
    "# Importing libraries\n",
    "from pyspark.sql import SparkSession\n",
    "from pyspark.sql.functions import when, row_number, monotonically_increasing_id\n",
    "from pyspark.sql.window import Window\n",
    "import psycopg2 as psy\n",
    "from pyspark.sql import functions as f\n"
   ]
  },
  {
   "cell_type": "code",
   "execution_count": 2,
   "metadata": {},
   "outputs": [],
   "source": [
    "#Setup Spark Session\n",
    "\n",
    "spark= SparkSession.builder.appName('NY Trip Data') \\\n",
    "                   .config(\"spark.jars\" , \"postgresql.42.7.3\") \\\n",
    "                   .config (\"spark.executor.memory\", \"4g\") \\\n",
    "                   .getOrCreate()\n"
   ]
  },
  {
   "cell_type": "code",
   "execution_count": 3,
   "metadata": {},
   "outputs": [],
   "source": [
    "file_path= \"yellow_tripdata_2009-01DATASET.parquet\"\n",
    "ny_df=spark.read.option('mode','DROPMALFORMED' ).parquet(file_path)"
   ]
  },
  {
   "cell_type": "code",
   "execution_count": 4,
   "metadata": {},
   "outputs": [
    {
     "name": "stdout",
     "output_type": "stream",
     "text": [
      "Length of dataset is: 14092413\n"
     ]
    }
   ],
   "source": [
    "print('Length of dataset is:', ny_df.count())"
   ]
  },
  {
   "cell_type": "code",
   "execution_count": 5,
   "metadata": {},
   "outputs": [
    {
     "name": "stdout",
     "output_type": "stream",
     "text": [
      "+-----------+--------------------+---------------------+---------------+------------------+------------------+---------+---------+-----------------+------------------+---------+------------+-----------------+---------+-------+-------+---------+---------+\n",
      "|vendor_name|Trip_Pickup_DateTime|Trip_Dropoff_DateTime|Passenger_Count|     Trip_Distance|         Start_Lon|Start_Lat|Rate_Code|store_and_forward|           End_Lon|  End_Lat|Payment_Type|         Fare_Amt|surcharge|mta_tax|Tip_Amt|Tolls_Amt|Total_Amt|\n",
      "+-----------+--------------------+---------------------+---------------+------------------+------------------+---------+---------+-----------------+------------------+---------+------------+-----------------+---------+-------+-------+---------+---------+\n",
      "|        VTS| 2009-01-04 02:52:00|  2009-01-04 03:02:00|              1|              2.63|        -73.991957|40.721567|     NULL|             NULL|        -73.993803|40.695922|        CASH|              8.9|      0.5|   NULL|    0.0|      0.0|      9.4|\n",
      "|        VTS| 2009-01-04 03:31:00|  2009-01-04 03:38:00|              3|              4.55|        -73.982102| 40.73629|     NULL|             NULL|         -73.95585| 40.76803|      Credit|             12.1|      0.5|   NULL|    2.0|      0.0|     14.6|\n",
      "|        VTS| 2009-01-03 15:43:00|  2009-01-03 15:57:00|              5|             10.35|        -74.002587|40.739748|     NULL|             NULL|        -73.869983|40.770225|      Credit|             23.7|      0.0|   NULL|   4.74|      0.0|    28.44|\n",
      "|        DDS| 2009-01-01 20:52:58|  2009-01-01 21:14:00|              1|               5.0|        -73.974267|40.790955|     NULL|             NULL|-73.99655799999998|40.731849|      CREDIT|             14.9|      0.5|   NULL|   3.05|      0.0|    18.45|\n",
      "|        DDS| 2009-01-24 16:18:23|  2009-01-24 16:24:56|              1|               0.4|         -74.00158|40.719382|     NULL|             NULL|-74.00837799999998| 40.72035|        CASH|              3.7|      0.0|   NULL|    0.0|      0.0|      3.7|\n",
      "|        DDS| 2009-01-16 22:35:59|  2009-01-16 22:43:35|              2|               1.2|        -73.989806|40.735006|     NULL|             NULL|        -73.985021|40.724494|        CASH|              6.1|      0.5|   NULL|    0.0|      0.0|      6.6|\n",
      "|        DDS| 2009-01-21 08:55:57|  2009-01-21 09:05:42|              1|               0.4|-73.98404999999998|40.743544|     NULL|             NULL|         -73.98026|40.748926|      CREDIT|              5.7|      0.0|   NULL|    1.0|      0.0|      6.7|\n",
      "|        VTS| 2009-01-04 04:31:00|  2009-01-04 04:36:00|              1|              1.72|        -73.992635|40.748362|     NULL|             NULL|        -73.995585|40.728307|        CASH|              6.1|      0.5|   NULL|    0.0|      0.0|      6.6|\n",
      "|        CMT| 2009-01-05 16:29:02|  2009-01-05 16:40:21|              1|               1.6|         -73.96969|40.749244|     NULL|             NULL|        -73.990413|40.751082|      Credit|8.699999999999998|      0.0|   NULL|    1.3|      0.0|     10.0|\n",
      "|        CMT| 2009-01-05 18:53:13|  2009-01-05 18:57:45|              1|0.6999999999999998|        -73.955173|40.783044|     NULL|             NULL|-73.95859799999998|40.774822|        Cash|              5.9|      0.0|   NULL|    0.0|      0.0|      5.9|\n",
      "|        CMT| 2009-01-05 08:15:38|  2009-01-05 08:16:44|              1|0.2999999999999999|        -73.986824|40.750893|     NULL|             NULL|-73.98411799999998|40.751437|        Cash|              2.9|      0.0|   NULL|    0.0|      0.0|      2.9|\n",
      "|        CMT| 2009-01-05 06:21:43|  2009-01-05 06:28:41|              1|               2.3|          -74.0061|40.748432|     NULL|             NULL|        -73.978437|40.762481|        Cash|              7.7|      0.0|   NULL|    0.0|      0.0|      7.7|\n",
      "|        DDS| 2009-01-20 13:44:02|  2009-01-20 13:52:43|              2|               2.1|        -73.983339|40.744782|     NULL|             NULL|         -73.98116|40.720835|        CASH|              7.3|      0.0|   NULL|    0.0|      0.0|      7.3|\n",
      "|        CMT| 2009-01-05 16:19:53|  2009-01-05 16:26:48|              2|               1.2|         -73.97351| 40.76028|     NULL|             NULL|        -73.962933|40.775119|        Cash|              6.7|      0.0|   NULL|    0.0|      0.0|      6.7|\n",
      "|        CMT| 2009-01-05 17:22:16|  2009-01-05 17:27:25|              1|               0.8|        -73.984426| 40.75748|     NULL|             NULL|-73.98251899999998|40.767165|        Cash|              5.9|      0.0|   NULL|    0.0|      0.0|      5.9|\n",
      "|        CMT| 2009-01-05 16:02:52|  2009-01-05 16:18:43|              1|               4.5|-73.99106399999998|40.727654|     NULL|             NULL|-73.94577099999998| 40.77765|        Cash|             13.9|      0.0|   NULL|    0.0|      0.0|     13.9|\n",
      "|        CMT| 2009-01-05 12:15:06|  2009-01-05 12:27:58|              1|               1.7|        -74.001678|  40.7473|     NULL|             NULL|-73.97895699999998|40.750394|        Cash|              8.5|      0.0|   NULL|    0.0|      0.0|      8.5|\n",
      "|        CMT| 2009-01-05 07:49:57|  2009-01-05 07:54:11|              1|               1.0|-73.98245699999998|40.731475|     NULL|             NULL|        -73.973011|40.743387|      Credit|              4.5|      0.0|   NULL|    1.0|      0.0|      5.5|\n",
      "|        DDS| 2009-01-23 23:57:34|  2009-01-24 00:12:40|              2|               5.0|        -73.992554|40.724476|     NULL|             NULL|-73.95306499999998|40.777555|      CREDIT|             13.3|      0.5|   NULL|   3.45|      0.0|    17.25|\n",
      "|        CMT| 2009-01-05 10:23:13|  2009-01-05 10:33:56|              1|               1.3|        -73.990089|40.759027|     NULL|             NULL|        -73.983974|40.746938|        Cash|              7.3|      0.0|   NULL|    0.0|      0.0|      7.3|\n",
      "+-----------+--------------------+---------------------+---------------+------------------+------------------+---------+---------+-----------------+------------------+---------+------------+-----------------+---------+-------+-------+---------+---------+\n",
      "only showing top 20 rows\n",
      "\n"
     ]
    }
   ],
   "source": [
    "ny_df.show()"
   ]
  },
  {
   "cell_type": "code",
   "execution_count": 6,
   "metadata": {},
   "outputs": [
    {
     "data": {
      "text/plain": [
       "['vendor_name',\n",
       " 'Trip_Pickup_DateTime',\n",
       " 'Trip_Dropoff_DateTime',\n",
       " 'Passenger_Count',\n",
       " 'Trip_Distance',\n",
       " 'Start_Lon',\n",
       " 'Start_Lat',\n",
       " 'Rate_Code',\n",
       " 'store_and_forward',\n",
       " 'End_Lon',\n",
       " 'End_Lat',\n",
       " 'Payment_Type',\n",
       " 'Fare_Amt',\n",
       " 'surcharge',\n",
       " 'mta_tax',\n",
       " 'Tip_Amt',\n",
       " 'Tolls_Amt',\n",
       " 'Total_Amt']"
      ]
     },
     "execution_count": 6,
     "metadata": {},
     "output_type": "execute_result"
    }
   ],
   "source": [
    "#Checking columns\n",
    "ny_df.columns"
   ]
  },
  {
   "cell_type": "code",
   "execution_count": 7,
   "metadata": {},
   "outputs": [
    {
     "name": "stdout",
     "output_type": "stream",
     "text": [
      "root\n",
      " |-- vendor_name: string (nullable = true)\n",
      " |-- Trip_Pickup_DateTime: string (nullable = true)\n",
      " |-- Trip_Dropoff_DateTime: string (nullable = true)\n",
      " |-- Passenger_Count: long (nullable = true)\n",
      " |-- Trip_Distance: double (nullable = true)\n",
      " |-- Start_Lon: double (nullable = true)\n",
      " |-- Start_Lat: double (nullable = true)\n",
      " |-- Rate_Code: double (nullable = true)\n",
      " |-- store_and_forward: double (nullable = true)\n",
      " |-- End_Lon: double (nullable = true)\n",
      " |-- End_Lat: double (nullable = true)\n",
      " |-- Payment_Type: string (nullable = true)\n",
      " |-- Fare_Amt: double (nullable = true)\n",
      " |-- surcharge: double (nullable = true)\n",
      " |-- mta_tax: double (nullable = true)\n",
      " |-- Tip_Amt: double (nullable = true)\n",
      " |-- Tolls_Amt: double (nullable = true)\n",
      " |-- Total_Amt: double (nullable = true)\n",
      "\n"
     ]
    }
   ],
   "source": [
    "#Check schema of data\n",
    "ny_df.printSchema()"
   ]
  },
  {
   "cell_type": "code",
   "execution_count": 8,
   "metadata": {},
   "outputs": [],
   "source": [
    "#taking a subset of our dataset\n",
    "\n",
    "ny_df_subset=ny_df.limit(20000)"
   ]
  },
  {
   "cell_type": "code",
   "execution_count": 9,
   "metadata": {},
   "outputs": [
    {
     "data": {
      "text/plain": [
       "20000"
      ]
     },
     "execution_count": 9,
     "metadata": {},
     "output_type": "execute_result"
    }
   ],
   "source": [
    "#Checking new row count\n",
    "ny_df_subset.count()"
   ]
  },
  {
   "cell_type": "code",
   "execution_count": 10,
   "metadata": {},
   "outputs": [
    {
     "name": "stdout",
     "output_type": "stream",
     "text": [
      "+-----------+--------------------+---------------------+---------------+------------------+------------------+---------+---------+-----------------+------------------+---------+------------+-----------------+---------+-------+-------+---------+---------+\n",
      "|vendor_name|Trip_Pickup_DateTime|Trip_Dropoff_DateTime|Passenger_Count|     Trip_Distance|         Start_Lon|Start_Lat|Rate_Code|store_and_forward|           End_Lon|  End_Lat|Payment_Type|         Fare_Amt|surcharge|mta_tax|Tip_Amt|Tolls_Amt|Total_Amt|\n",
      "+-----------+--------------------+---------------------+---------------+------------------+------------------+---------+---------+-----------------+------------------+---------+------------+-----------------+---------+-------+-------+---------+---------+\n",
      "|        VTS| 2009-01-04 02:52:00|  2009-01-04 03:02:00|              1|              2.63|        -73.991957|40.721567|     NULL|             NULL|        -73.993803|40.695922|        CASH|              8.9|      0.5|   NULL|    0.0|      0.0|      9.4|\n",
      "|        VTS| 2009-01-04 03:31:00|  2009-01-04 03:38:00|              3|              4.55|        -73.982102| 40.73629|     NULL|             NULL|         -73.95585| 40.76803|      Credit|             12.1|      0.5|   NULL|    2.0|      0.0|     14.6|\n",
      "|        VTS| 2009-01-03 15:43:00|  2009-01-03 15:57:00|              5|             10.35|        -74.002587|40.739748|     NULL|             NULL|        -73.869983|40.770225|      Credit|             23.7|      0.0|   NULL|   4.74|      0.0|    28.44|\n",
      "|        DDS| 2009-01-01 20:52:58|  2009-01-01 21:14:00|              1|               5.0|        -73.974267|40.790955|     NULL|             NULL|-73.99655799999998|40.731849|      CREDIT|             14.9|      0.5|   NULL|   3.05|      0.0|    18.45|\n",
      "|        DDS| 2009-01-24 16:18:23|  2009-01-24 16:24:56|              1|               0.4|         -74.00158|40.719382|     NULL|             NULL|-74.00837799999998| 40.72035|        CASH|              3.7|      0.0|   NULL|    0.0|      0.0|      3.7|\n",
      "|        DDS| 2009-01-16 22:35:59|  2009-01-16 22:43:35|              2|               1.2|        -73.989806|40.735006|     NULL|             NULL|        -73.985021|40.724494|        CASH|              6.1|      0.5|   NULL|    0.0|      0.0|      6.6|\n",
      "|        DDS| 2009-01-21 08:55:57|  2009-01-21 09:05:42|              1|               0.4|-73.98404999999998|40.743544|     NULL|             NULL|         -73.98026|40.748926|      CREDIT|              5.7|      0.0|   NULL|    1.0|      0.0|      6.7|\n",
      "|        VTS| 2009-01-04 04:31:00|  2009-01-04 04:36:00|              1|              1.72|        -73.992635|40.748362|     NULL|             NULL|        -73.995585|40.728307|        CASH|              6.1|      0.5|   NULL|    0.0|      0.0|      6.6|\n",
      "|        CMT| 2009-01-05 16:29:02|  2009-01-05 16:40:21|              1|               1.6|         -73.96969|40.749244|     NULL|             NULL|        -73.990413|40.751082|      Credit|8.699999999999998|      0.0|   NULL|    1.3|      0.0|     10.0|\n",
      "|        CMT| 2009-01-05 18:53:13|  2009-01-05 18:57:45|              1|0.6999999999999998|        -73.955173|40.783044|     NULL|             NULL|-73.95859799999998|40.774822|        Cash|              5.9|      0.0|   NULL|    0.0|      0.0|      5.9|\n",
      "|        CMT| 2009-01-05 08:15:38|  2009-01-05 08:16:44|              1|0.2999999999999999|        -73.986824|40.750893|     NULL|             NULL|-73.98411799999998|40.751437|        Cash|              2.9|      0.0|   NULL|    0.0|      0.0|      2.9|\n",
      "|        CMT| 2009-01-05 06:21:43|  2009-01-05 06:28:41|              1|               2.3|          -74.0061|40.748432|     NULL|             NULL|        -73.978437|40.762481|        Cash|              7.7|      0.0|   NULL|    0.0|      0.0|      7.7|\n",
      "|        DDS| 2009-01-20 13:44:02|  2009-01-20 13:52:43|              2|               2.1|        -73.983339|40.744782|     NULL|             NULL|         -73.98116|40.720835|        CASH|              7.3|      0.0|   NULL|    0.0|      0.0|      7.3|\n",
      "|        CMT| 2009-01-05 16:19:53|  2009-01-05 16:26:48|              2|               1.2|         -73.97351| 40.76028|     NULL|             NULL|        -73.962933|40.775119|        Cash|              6.7|      0.0|   NULL|    0.0|      0.0|      6.7|\n",
      "|        CMT| 2009-01-05 17:22:16|  2009-01-05 17:27:25|              1|               0.8|        -73.984426| 40.75748|     NULL|             NULL|-73.98251899999998|40.767165|        Cash|              5.9|      0.0|   NULL|    0.0|      0.0|      5.9|\n",
      "|        CMT| 2009-01-05 16:02:52|  2009-01-05 16:18:43|              1|               4.5|-73.99106399999998|40.727654|     NULL|             NULL|-73.94577099999998| 40.77765|        Cash|             13.9|      0.0|   NULL|    0.0|      0.0|     13.9|\n",
      "|        CMT| 2009-01-05 12:15:06|  2009-01-05 12:27:58|              1|               1.7|        -74.001678|  40.7473|     NULL|             NULL|-73.97895699999998|40.750394|        Cash|              8.5|      0.0|   NULL|    0.0|      0.0|      8.5|\n",
      "|        CMT| 2009-01-05 07:49:57|  2009-01-05 07:54:11|              1|               1.0|-73.98245699999998|40.731475|     NULL|             NULL|        -73.973011|40.743387|      Credit|              4.5|      0.0|   NULL|    1.0|      0.0|      5.5|\n",
      "|        DDS| 2009-01-23 23:57:34|  2009-01-24 00:12:40|              2|               5.0|        -73.992554|40.724476|     NULL|             NULL|-73.95306499999998|40.777555|      CREDIT|             13.3|      0.5|   NULL|   3.45|      0.0|    17.25|\n",
      "|        CMT| 2009-01-05 10:23:13|  2009-01-05 10:33:56|              1|               1.3|        -73.990089|40.759027|     NULL|             NULL|        -73.983974|40.746938|        Cash|              7.3|      0.0|   NULL|    0.0|      0.0|      7.3|\n",
      "+-----------+--------------------+---------------------+---------------+------------------+------------------+---------+---------+-----------------+------------------+---------+------------+-----------------+---------+-------+-------+---------+---------+\n",
      "only showing top 20 rows\n",
      "\n"
     ]
    }
   ],
   "source": [
    "ny_df_subset.show()"
   ]
  },
  {
   "cell_type": "code",
   "execution_count": 11,
   "metadata": {},
   "outputs": [
    {
     "name": "stdout",
     "output_type": "stream",
     "text": [
      "+-----------+--------------------+---------------------+---------------+-------------+---------+---------+---------+-----------------+-------+-------+------------+--------+---------+-------+-------+---------+---------+-----+\n",
      "|vendor_name|Trip_Pickup_DateTime|Trip_Dropoff_DateTime|Passenger_Count|Trip_Distance|Start_Lon|Start_Lat|Rate_Code|store_and_forward|End_Lon|End_Lat|Payment_Type|Fare_Amt|surcharge|mta_tax|Tip_Amt|Tolls_Amt|Total_Amt|count|\n",
      "+-----------+--------------------+---------------------+---------------+-------------+---------+---------+---------+-----------------+-------+-------+------------+--------+---------+-------+-------+---------+---------+-----+\n",
      "+-----------+--------------------+---------------------+---------------+-------------+---------+---------+---------+-----------------+-------+-------+------------+--------+---------+-------+-------+---------+---------+-----+\n",
      "\n"
     ]
    }
   ],
   "source": [
    "#checkinf for duplicate rows\n",
    "ny_df_subset.groupBy('vendor_name',\n",
    " 'Trip_Pickup_DateTime',\n",
    " 'Trip_Dropoff_DateTime',\n",
    " 'Passenger_Count',\n",
    " 'Trip_Distance',\n",
    " 'Start_Lon',\n",
    " 'Start_Lat',\n",
    " 'Rate_Code',\n",
    " 'store_and_forward',\n",
    " 'End_Lon',\n",
    " 'End_Lat',\n",
    " 'Payment_Type',\n",
    " 'Fare_Amt',\n",
    " 'surcharge',\n",
    " 'mta_tax',\n",
    " 'Tip_Amt',\n",
    " 'Tolls_Amt',\n",
    " 'Total_Amt').count().filter('count > 1').show()"
   ]
  },
  {
   "cell_type": "code",
   "execution_count": 12,
   "metadata": {},
   "outputs": [
    {
     "name": "stdout",
     "output_type": "stream",
     "text": [
      "vendor_name 0\n",
      "Trip_Pickup_DateTime 0\n",
      "Trip_Dropoff_DateTime 0\n",
      "Passenger_Count 0\n",
      "Trip_Distance 0\n",
      "Start_Lon 0\n",
      "Start_Lat 0\n",
      "Rate_Code 20000\n",
      "store_and_forward 20000\n",
      "End_Lon 0\n",
      "End_Lat 0\n",
      "Payment_Type 0\n",
      "Fare_Amt 0\n",
      "surcharge 0\n",
      "mta_tax 20000\n",
      "Tip_Amt 0\n",
      "Tolls_Amt 0\n",
      "Total_Amt 0\n"
     ]
    }
   ],
   "source": [
    "#Find the missing values in the dataset\n",
    "for column in ny_df_subset.columns:\n",
    "  null_count= ny_df_subset.filter(f.col(column).isNull()).count()\n",
    "  print(column, null_count)\n"
   ]
  },
  {
   "cell_type": "code",
   "execution_count": 15,
   "metadata": {},
   "outputs": [
    {
     "data": {
      "text/plain": [
       "[('vendor_name', 0),\n",
       " ('Trip_Pickup_DateTime', 0),\n",
       " ('Trip_Dropoff_DateTime', 0),\n",
       " ('Passenger_Count', 0),\n",
       " ('Trip_Distance', 0),\n",
       " ('Start_Lon', 0),\n",
       " ('Start_Lat', 0),\n",
       " ('Rate_Code', 20000),\n",
       " ('store_and_forward', 20000),\n",
       " ('End_Lon', 0),\n",
       " ('End_Lat', 0),\n",
       " ('Payment_Type', 0),\n",
       " ('Fare_Amt', 0),\n",
       " ('surcharge', 0),\n",
       " ('mta_tax', 20000),\n",
       " ('Tip_Amt', 0),\n",
       " ('Tolls_Amt', 0),\n",
       " ('Total_Amt', 0)]"
      ]
     },
     "execution_count": 15,
     "metadata": {},
     "output_type": "execute_result"
    }
   ],
   "source": [
    "#FInding minssing values using list comprehension\n",
    "null_counts_2= [(column, ny_df_subset.where(f.col(column).isNull()).count()) for column in ny_df_subset.columns]\n",
    "null_counts_2\n"
   ]
  },
  {
   "cell_type": "code",
   "execution_count": 23,
   "metadata": {},
   "outputs": [
    {
     "data": {
      "text/plain": [
       "['Rate_Code', 'store_and_forward', 'mta_tax']"
      ]
     },
     "execution_count": 23,
     "metadata": {},
     "output_type": "execute_result"
    }
   ],
   "source": [
    "#Getting columns to drop\n",
    "columns_to_drop = [column for column, count in null_counts_2 if count > 0.1 * ny_df_subset.count()]\n",
    "columns_to_drop"
   ]
  },
  {
   "cell_type": "code",
   "execution_count": 25,
   "metadata": {},
   "outputs": [
    {
     "data": {
      "text/plain": [
       "['vendor_name',\n",
       " 'Trip_Pickup_DateTime',\n",
       " 'Trip_Dropoff_DateTime',\n",
       " 'Passenger_Count',\n",
       " 'Trip_Distance',\n",
       " 'Start_Lon',\n",
       " 'Start_Lat',\n",
       " 'End_Lon',\n",
       " 'End_Lat',\n",
       " 'Payment_Type',\n",
       " 'Fare_Amt',\n",
       " 'surcharge',\n",
       " 'Tip_Amt',\n",
       " 'Tolls_Amt',\n",
       " 'Total_Amt']"
      ]
     },
     "execution_count": 25,
     "metadata": {},
     "output_type": "execute_result"
    }
   ],
   "source": [
    "#Droping columns with more than 10% nulls\n",
    "ny_df_subset= ny_df_subset.drop(*columns_to_drop)\n",
    "\n",
    "ny_df_subset.columns"
   ]
  },
  {
   "cell_type": "code",
   "execution_count": 26,
   "metadata": {},
   "outputs": [
    {
     "name": "stdout",
     "output_type": "stream",
     "text": [
      "+-----------+--------------------+---------------------+---------------+------------------+------------------+---------+------------------+---------+------------+-----------------+---------+-------+---------+---------+\n",
      "|vendor_name|Trip_Pickup_DateTime|Trip_Dropoff_DateTime|Passenger_Count|     Trip_Distance|         Start_Lon|Start_Lat|           End_Lon|  End_Lat|Payment_Type|         Fare_Amt|surcharge|Tip_Amt|Tolls_Amt|Total_Amt|\n",
      "+-----------+--------------------+---------------------+---------------+------------------+------------------+---------+------------------+---------+------------+-----------------+---------+-------+---------+---------+\n",
      "|        VTS| 2009-01-04 02:52:00|  2009-01-04 03:02:00|              1|              2.63|        -73.991957|40.721567|        -73.993803|40.695922|        CASH|              8.9|      0.5|    0.0|      0.0|      9.4|\n",
      "|        VTS| 2009-01-04 03:31:00|  2009-01-04 03:38:00|              3|              4.55|        -73.982102| 40.73629|         -73.95585| 40.76803|      Credit|             12.1|      0.5|    2.0|      0.0|     14.6|\n",
      "|        VTS| 2009-01-03 15:43:00|  2009-01-03 15:57:00|              5|             10.35|        -74.002587|40.739748|        -73.869983|40.770225|      Credit|             23.7|      0.0|   4.74|      0.0|    28.44|\n",
      "|        DDS| 2009-01-01 20:52:58|  2009-01-01 21:14:00|              1|               5.0|        -73.974267|40.790955|-73.99655799999998|40.731849|      CREDIT|             14.9|      0.5|   3.05|      0.0|    18.45|\n",
      "|        DDS| 2009-01-24 16:18:23|  2009-01-24 16:24:56|              1|               0.4|         -74.00158|40.719382|-74.00837799999998| 40.72035|        CASH|              3.7|      0.0|    0.0|      0.0|      3.7|\n",
      "|        DDS| 2009-01-16 22:35:59|  2009-01-16 22:43:35|              2|               1.2|        -73.989806|40.735006|        -73.985021|40.724494|        CASH|              6.1|      0.5|    0.0|      0.0|      6.6|\n",
      "|        DDS| 2009-01-21 08:55:57|  2009-01-21 09:05:42|              1|               0.4|-73.98404999999998|40.743544|         -73.98026|40.748926|      CREDIT|              5.7|      0.0|    1.0|      0.0|      6.7|\n",
      "|        VTS| 2009-01-04 04:31:00|  2009-01-04 04:36:00|              1|              1.72|        -73.992635|40.748362|        -73.995585|40.728307|        CASH|              6.1|      0.5|    0.0|      0.0|      6.6|\n",
      "|        CMT| 2009-01-05 16:29:02|  2009-01-05 16:40:21|              1|               1.6|         -73.96969|40.749244|        -73.990413|40.751082|      Credit|8.699999999999998|      0.0|    1.3|      0.0|     10.0|\n",
      "|        CMT| 2009-01-05 18:53:13|  2009-01-05 18:57:45|              1|0.6999999999999998|        -73.955173|40.783044|-73.95859799999998|40.774822|        Cash|              5.9|      0.0|    0.0|      0.0|      5.9|\n",
      "|        CMT| 2009-01-05 08:15:38|  2009-01-05 08:16:44|              1|0.2999999999999999|        -73.986824|40.750893|-73.98411799999998|40.751437|        Cash|              2.9|      0.0|    0.0|      0.0|      2.9|\n",
      "|        CMT| 2009-01-05 06:21:43|  2009-01-05 06:28:41|              1|               2.3|          -74.0061|40.748432|        -73.978437|40.762481|        Cash|              7.7|      0.0|    0.0|      0.0|      7.7|\n",
      "|        DDS| 2009-01-20 13:44:02|  2009-01-20 13:52:43|              2|               2.1|        -73.983339|40.744782|         -73.98116|40.720835|        CASH|              7.3|      0.0|    0.0|      0.0|      7.3|\n",
      "|        CMT| 2009-01-05 16:19:53|  2009-01-05 16:26:48|              2|               1.2|         -73.97351| 40.76028|        -73.962933|40.775119|        Cash|              6.7|      0.0|    0.0|      0.0|      6.7|\n",
      "|        CMT| 2009-01-05 17:22:16|  2009-01-05 17:27:25|              1|               0.8|        -73.984426| 40.75748|-73.98251899999998|40.767165|        Cash|              5.9|      0.0|    0.0|      0.0|      5.9|\n",
      "|        CMT| 2009-01-05 16:02:52|  2009-01-05 16:18:43|              1|               4.5|-73.99106399999998|40.727654|-73.94577099999998| 40.77765|        Cash|             13.9|      0.0|    0.0|      0.0|     13.9|\n",
      "|        CMT| 2009-01-05 12:15:06|  2009-01-05 12:27:58|              1|               1.7|        -74.001678|  40.7473|-73.97895699999998|40.750394|        Cash|              8.5|      0.0|    0.0|      0.0|      8.5|\n",
      "|        CMT| 2009-01-05 07:49:57|  2009-01-05 07:54:11|              1|               1.0|-73.98245699999998|40.731475|        -73.973011|40.743387|      Credit|              4.5|      0.0|    1.0|      0.0|      5.5|\n",
      "|        DDS| 2009-01-23 23:57:34|  2009-01-24 00:12:40|              2|               5.0|        -73.992554|40.724476|-73.95306499999998|40.777555|      CREDIT|             13.3|      0.5|   3.45|      0.0|    17.25|\n",
      "|        CMT| 2009-01-05 10:23:13|  2009-01-05 10:33:56|              1|               1.3|        -73.990089|40.759027|        -73.983974|40.746938|        Cash|              7.3|      0.0|    0.0|      0.0|      7.3|\n",
      "+-----------+--------------------+---------------------+---------------+------------------+------------------+---------+------------------+---------+------------+-----------------+---------+-------+---------+---------+\n",
      "only showing top 20 rows\n",
      "\n"
     ]
    }
   ],
   "source": [
    "ny_df_subset.show()"
   ]
  },
  {
   "cell_type": "code",
   "execution_count": 27,
   "metadata": {},
   "outputs": [],
   "source": [
    "#Data transformation\n",
    "\n",
    "ny_df_subset=ny_df_subset.filter(\n",
    "    (f.col('Passenger_Count') > 0.0) &\n",
    "    (f.col('Trip_Distance') > 0.0) & \n",
    "    (f.col(\"Fare_Amt\") > 0.0) &\n",
    "    (f.col(\"Total_Amt\") > 0.0) & \n",
    "    (f.col(\"Tip_Amt\")>= 0.0) &\n",
    "    (f.col(\"Tolls_Amt\")>= 0.0) &\n",
    "    (f.col(\"surcharge\") >= 0.0)\n",
    "    )"
   ]
  },
  {
   "cell_type": "code",
   "execution_count": 28,
   "metadata": {},
   "outputs": [
    {
     "data": {
      "text/plain": [
       "19835"
      ]
     },
     "execution_count": 28,
     "metadata": {},
     "output_type": "execute_result"
    }
   ],
   "source": [
    "ny_df_subset.count()"
   ]
  },
  {
   "cell_type": "code",
   "execution_count": 29,
   "metadata": {},
   "outputs": [
    {
     "data": {
      "text/plain": [
       "[('vendor_name', 'string'),\n",
       " ('Trip_Pickup_DateTime', 'string'),\n",
       " ('Trip_Dropoff_DateTime', 'string'),\n",
       " ('Passenger_Count', 'bigint'),\n",
       " ('Trip_Distance', 'double'),\n",
       " ('Start_Lon', 'double'),\n",
       " ('Start_Lat', 'double'),\n",
       " ('End_Lon', 'double'),\n",
       " ('End_Lat', 'double'),\n",
       " ('Payment_Type', 'string'),\n",
       " ('Fare_Amt', 'double'),\n",
       " ('surcharge', 'double'),\n",
       " ('Tip_Amt', 'double'),\n",
       " ('Tolls_Amt', 'double'),\n",
       " ('Total_Amt', 'double')]"
      ]
     },
     "execution_count": 29,
     "metadata": {},
     "output_type": "execute_result"
    }
   ],
   "source": [
    "#checking data type\n",
    "ny_df_subset.dtypes"
   ]
  },
  {
   "cell_type": "code",
   "execution_count": 31,
   "metadata": {},
   "outputs": [],
   "source": [
    "#Changing data types\n",
    "columns_to_cast = {\n",
    "    \"Trip_Pickup_DateTime\": \"timestamp\",\n",
    "    \"Trip_Dropoff_DateTime\": \"timestamp\",\n",
    "    \"Passenger_Count\": \"integer\",\n",
    "}"
   ]
  },
  {
   "cell_type": "code",
   "execution_count": 32,
   "metadata": {},
   "outputs": [],
   "source": [
    "#Changing data types\n",
    "for col_name, col_type in columns_to_cast.items():\n",
    "    ny_df_subset= ny_df_subset.withColumn(col_name, f.col(col_name).cast(col_type))"
   ]
  },
  {
   "cell_type": "code",
   "execution_count": 33,
   "metadata": {},
   "outputs": [
    {
     "data": {
      "text/plain": [
       "[('vendor_name', 'string'),\n",
       " ('Trip_Pickup_DateTime', 'timestamp'),\n",
       " ('Trip_Dropoff_DateTime', 'timestamp'),\n",
       " ('Passenger_Count', 'int'),\n",
       " ('Trip_Distance', 'double'),\n",
       " ('Start_Lon', 'double'),\n",
       " ('Start_Lat', 'double'),\n",
       " ('End_Lon', 'double'),\n",
       " ('End_Lat', 'double'),\n",
       " ('Payment_Type', 'string'),\n",
       " ('Fare_Amt', 'double'),\n",
       " ('surcharge', 'double'),\n",
       " ('Tip_Amt', 'double'),\n",
       " ('Tolls_Amt', 'double'),\n",
       " ('Total_Amt', 'double')]"
      ]
     },
     "execution_count": 33,
     "metadata": {},
     "output_type": "execute_result"
    }
   ],
   "source": [
    "ny_df_subset.dtypes"
   ]
  },
  {
   "cell_type": "code",
   "execution_count": 34,
   "metadata": {},
   "outputs": [
    {
     "data": {
      "text/plain": [
       "['vendor_name', 'Payment_Type']"
      ]
     },
     "execution_count": 34,
     "metadata": {},
     "output_type": "execute_result"
    }
   ],
   "source": [
    "#Print out all categorical columns\n",
    "categorical_columns= [item[0] for item in ny_df_subset.dtypes if item[1].startswith('string')]\n",
    "\n",
    "categorical_columns"
   ]
  },
  {
   "cell_type": "code",
   "execution_count": 35,
   "metadata": {},
   "outputs": [
    {
     "name": "stdout",
     "output_type": "stream",
     "text": [
      "+-----------+\n",
      "|vendor_name|\n",
      "+-----------+\n",
      "|        VTS|\n",
      "|        DDS|\n",
      "|        CMT|\n",
      "+-----------+\n",
      "\n"
     ]
    }
   ],
   "source": [
    "#Checking the distinct values in the categorical data\n",
    "ny_df_subset.select('vendor_name').distinct().show()"
   ]
  },
  {
   "cell_type": "code",
   "execution_count": 36,
   "metadata": {},
   "outputs": [
    {
     "name": "stdout",
     "output_type": "stream",
     "text": [
      "+------------+\n",
      "|Payment_Type|\n",
      "+------------+\n",
      "|        CASH|\n",
      "|      Credit|\n",
      "|      CREDIT|\n",
      "|        Cash|\n",
      "|   No Charge|\n",
      "|     Dispute|\n",
      "+------------+\n",
      "\n"
     ]
    }
   ],
   "source": [
    "#Checking the distinct values in the categorical data\n",
    "ny_df_subset.select('Payment_Type').distinct().show()"
   ]
  },
  {
   "cell_type": "code",
   "execution_count": 37,
   "metadata": {},
   "outputs": [],
   "source": [
    "# Fixing payment_type column\n",
    "ny_df_subset= ny_df_subset.withColumn(\"Payment_Type\", \n",
    "                                      when(f.col('Payment_Type')== 'CASH', 'Cash')\n",
    "                                      .when(f.col('Payment_Type') == 'CREDIT', 'Credit')\n",
    "                                      .otherwise(f.col('Payment_Type'))\n",
    "                                    )"
   ]
  },
  {
   "cell_type": "code",
   "execution_count": 38,
   "metadata": {},
   "outputs": [
    {
     "name": "stdout",
     "output_type": "stream",
     "text": [
      "+------------+\n",
      "|Payment_Type|\n",
      "+------------+\n",
      "|        Cash|\n",
      "|      Credit|\n",
      "|   No Charge|\n",
      "|     Dispute|\n",
      "+------------+\n",
      "\n"
     ]
    }
   ],
   "source": [
    "ny_df_subset.select('Payment_Type').distinct().show()"
   ]
  },
  {
   "cell_type": "markdown",
   "metadata": {},
   "source": [
    "Creating Different Tables"
   ]
  },
  {
   "cell_type": "code",
   "execution_count": 39,
   "metadata": {},
   "outputs": [
    {
     "name": "stdout",
     "output_type": "stream",
     "text": [
      "+---------+-----------+\n",
      "|vendor_id|vendor_name|\n",
      "+---------+-----------+\n",
      "|        1|        VTS|\n",
      "|        2|        VTS|\n",
      "|        3|        VTS|\n",
      "|        4|        DDS|\n",
      "|        5|        DDS|\n",
      "|        6|        DDS|\n",
      "|        7|        DDS|\n",
      "|        8|        VTS|\n",
      "|        9|        CMT|\n",
      "|       10|        CMT|\n",
      "|       11|        CMT|\n",
      "|       12|        CMT|\n",
      "|       13|        DDS|\n",
      "|       14|        CMT|\n",
      "|       15|        CMT|\n",
      "|       16|        CMT|\n",
      "|       17|        CMT|\n",
      "|       18|        CMT|\n",
      "|       19|        DDS|\n",
      "|       20|        CMT|\n",
      "+---------+-----------+\n",
      "only showing top 20 rows\n",
      "\n"
     ]
    }
   ],
   "source": [
    "#Creating vendor table\n",
    "\n",
    "vendors= ny_df_subset.select('vendor_name') \\\n",
    "                    .withColumn('vendor_id', monotonically_increasing_id()+1) \\\n",
    "                    .select('vendor_id', 'vendor_name')\n",
    "\n",
    "vendors.show()"
   ]
  },
  {
   "cell_type": "code",
   "execution_count": 40,
   "metadata": {},
   "outputs": [
    {
     "data": {
      "text/plain": [
       "19835"
      ]
     },
     "execution_count": 40,
     "metadata": {},
     "output_type": "execute_result"
    }
   ],
   "source": [
    "vendors.count()"
   ]
  },
  {
   "cell_type": "code",
   "execution_count": 41,
   "metadata": {},
   "outputs": [
    {
     "name": "stdout",
     "output_type": "stream",
     "text": [
      "+----------+------------+--------+---------+-------+---------+---------+\n",
      "|payment_id|Payment_Type|Fare_Amt|surcharge|Tip_Amt|Tolls_Amt|Total_Amt|\n",
      "+----------+------------+--------+---------+-------+---------+---------+\n",
      "|         1|        Cash|     8.9|      0.5|    0.0|      0.0|      9.4|\n",
      "|         2|      Credit|    12.1|      0.5|    2.0|      0.0|     14.6|\n",
      "|         3|      Credit|    23.7|      0.0|   4.74|      0.0|    28.44|\n",
      "|         4|      Credit|    14.9|      0.5|   3.05|      0.0|    18.45|\n",
      "|         5|        Cash|     3.7|      0.0|    0.0|      0.0|      3.7|\n",
      "+----------+------------+--------+---------+-------+---------+---------+\n",
      "only showing top 5 rows\n",
      "\n"
     ]
    }
   ],
   "source": [
    "payments= ny_df_subset.select('Payment_Type', 'Fare_Amt', 'surcharge', 'Tip_Amt', 'Tolls_Amt', 'Total_Amt') \\\n",
    "                      .withColumn('payment_id', monotonically_increasing_id()+1) \\\n",
    "                      .select('payment_id','Payment_Type', 'Fare_Amt', 'surcharge', 'Tip_Amt', 'Tolls_Amt', 'Total_Amt' )\n",
    "\n",
    "payments.show(5)"
   ]
  },
  {
   "cell_type": "code",
   "execution_count": 42,
   "metadata": {},
   "outputs": [
    {
     "data": {
      "text/plain": [
       "19835"
      ]
     },
     "execution_count": 42,
     "metadata": {},
     "output_type": "execute_result"
    }
   ],
   "source": [
    "payments.count()"
   ]
  },
  {
   "cell_type": "code",
   "execution_count": 43,
   "metadata": {},
   "outputs": [
    {
     "name": "stdout",
     "output_type": "stream",
     "text": [
      "+-----------+----------+---------+----------+---------+\n",
      "|location_id| Start_Lon|Start_Lat|   End_Lon|  End_Lat|\n",
      "+-----------+----------+---------+----------+---------+\n",
      "|          1|-73.991957|40.721567|-73.993803|40.695922|\n",
      "|          2|-73.982102| 40.73629| -73.95585| 40.76803|\n",
      "|          3|-74.002587|40.739748|-73.869983|40.770225|\n",
      "+-----------+----------+---------+----------+---------+\n",
      "only showing top 3 rows\n",
      "\n"
     ]
    }
   ],
   "source": [
    "#Locations table\n",
    "\n",
    "locations= ny_df_subset.select('Start_Lon', 'Start_Lat', 'End_Lon', 'End_Lat') \\\n",
    "                       .withColumn('location_id', monotonically_increasing_id()+1) \\\n",
    "                       .select('location_id','Start_Lon', 'Start_Lat', 'End_Lon', 'End_Lat')\n",
    "\n",
    "locations.show(3)"
   ]
  },
  {
   "cell_type": "code",
   "execution_count": 44,
   "metadata": {},
   "outputs": [
    {
     "data": {
      "text/plain": [
       "19835"
      ]
     },
     "execution_count": 44,
     "metadata": {},
     "output_type": "execute_result"
    }
   ],
   "source": [
    "locations.count()"
   ]
  },
  {
   "cell_type": "code",
   "execution_count": 53,
   "metadata": {},
   "outputs": [
    {
     "name": "stdout",
     "output_type": "stream",
     "text": [
      "+-------+---------+----------+-----------+--------------------+---------------------+---------------+------------------+\n",
      "|trip_id|vendor_id|payment_id|location_id|Trip_Pickup_DateTime|Trip_Dropoff_DateTime|Passenger_Count|     Trip_Distance|\n",
      "+-------+---------+----------+-----------+--------------------+---------------------+---------------+------------------+\n",
      "|      1|        1|         1|          1| 2009-01-04 02:52:00|  2009-01-04 03:02:00|              1|              2.63|\n",
      "|      2|        2|         2|          2| 2009-01-04 03:31:00|  2009-01-04 03:38:00|              3|              4.55|\n",
      "|      3|        3|         3|          3| 2009-01-03 15:43:00|  2009-01-03 15:57:00|              5|             10.35|\n",
      "|      4|        4|         4|          4| 2009-01-01 20:52:58|  2009-01-01 21:14:00|              1|               5.0|\n",
      "|      5|        5|         5|          5| 2009-01-24 16:18:23|  2009-01-24 16:24:56|              1|               0.4|\n",
      "|      6|        6|         6|          6| 2009-01-16 22:35:59|  2009-01-16 22:43:35|              2|               1.2|\n",
      "|      7|        7|         7|          7| 2009-01-21 08:55:57|  2009-01-21 09:05:42|              1|               0.4|\n",
      "|      8|        8|         8|          8| 2009-01-04 04:31:00|  2009-01-04 04:36:00|              1|              1.72|\n",
      "|      9|        9|         9|          9| 2009-01-05 16:29:02|  2009-01-05 16:40:21|              1|               1.6|\n",
      "|     10|       10|        10|         10| 2009-01-05 18:53:13|  2009-01-05 18:57:45|              1|0.6999999999999998|\n",
      "|     11|       11|        11|         11| 2009-01-05 08:15:38|  2009-01-05 08:16:44|              1|0.2999999999999999|\n",
      "|     12|       12|        12|         12| 2009-01-05 06:21:43|  2009-01-05 06:28:41|              1|               2.3|\n",
      "|     13|       13|        13|         13| 2009-01-20 13:44:02|  2009-01-20 13:52:43|              2|               2.1|\n",
      "|     14|       14|        14|         14| 2009-01-05 16:19:53|  2009-01-05 16:26:48|              2|               1.2|\n",
      "|     15|       15|        15|         15| 2009-01-05 17:22:16|  2009-01-05 17:27:25|              1|               0.8|\n",
      "|     16|       16|        16|         16| 2009-01-05 16:02:52|  2009-01-05 16:18:43|              1|               4.5|\n",
      "|     17|       17|        17|         17| 2009-01-05 12:15:06|  2009-01-05 12:27:58|              1|               1.7|\n",
      "|     18|       18|        18|         18| 2009-01-05 07:49:57|  2009-01-05 07:54:11|              1|               1.0|\n",
      "|     19|       19|        19|         19| 2009-01-23 23:57:34|  2009-01-24 00:12:40|              2|               5.0|\n",
      "|     20|       20|        20|         20| 2009-01-05 10:23:13|  2009-01-05 10:33:56|              1|               1.3|\n",
      "+-------+---------+----------+-----------+--------------------+---------------------+---------------+------------------+\n",
      "only showing top 20 rows\n",
      "\n"
     ]
    }
   ],
   "source": [
    "#Trip Table\n",
    "\n",
    "trips= ny_df_subset.withColumn('trip_id',monotonically_increasing_id()+1 )\n",
    "\n",
    "trips= trips.join(vendors, trips.trip_id==vendors.vendor_id, 'left')\\\n",
    "            .join(payments,trips.trip_id==payments.payment_id, 'left' )\\\n",
    "            .join (locations,trips.trip_id==locations.location_id, 'left' ) \\\n",
    "            .select ('trip_id', 'vendor_id','payment_id', 'location_id', 'Trip_Pickup_DateTime','Trip_Dropoff_DateTime','Passenger_Count','Trip_Distance')\n",
    "\n",
    "trips.show()             "
   ]
  },
  {
   "cell_type": "code",
   "execution_count": 55,
   "metadata": {},
   "outputs": [
    {
     "data": {
      "text/plain": [
       "19835"
      ]
     },
     "execution_count": 55,
     "metadata": {},
     "output_type": "execute_result"
    }
   ],
   "source": [
    "trips.count()"
   ]
  },
  {
   "cell_type": "code",
   "execution_count": 33,
   "metadata": {},
   "outputs": [],
   "source": [
    "# # Cache the DataFrame\n",
    "# trips.cache()\n",
    "\n",
    "# # Perform the count\n",
    "# trip_count = trips.count()\n",
    "# print(f\"Number of rows in trips: {trip_count}\")"
   ]
  },
  {
   "cell_type": "code",
   "execution_count": 34,
   "metadata": {},
   "outputs": [
    {
     "data": {
      "text/plain": [
       "['vendor_name',\n",
       " 'Trip_Pickup_DateTime',\n",
       " 'Trip_Dropoff_DateTime',\n",
       " 'Passenger_Count',\n",
       " 'Trip_Distance',\n",
       " 'Start_Lon',\n",
       " 'Start_Lat',\n",
       " 'End_Lon',\n",
       " 'End_Lat',\n",
       " 'Payment_Type',\n",
       " 'Fare_Amt',\n",
       " 'surcharge',\n",
       " 'Tip_Amt',\n",
       " 'Tolls_Amt',\n",
       " 'Total_Amt']"
      ]
     },
     "execution_count": 34,
     "metadata": {},
     "output_type": "execute_result"
    }
   ],
   "source": [
    "ny_df_subset.columns"
   ]
  },
  {
   "cell_type": "code",
   "execution_count": null,
   "metadata": {},
   "outputs": [],
   "source": []
  },
  {
   "cell_type": "markdown",
   "metadata": {},
   "source": []
  }
 ],
 "metadata": {
  "kernelspec": {
   "display_name": "Python 3",
   "language": "python",
   "name": "python3"
  },
  "language_info": {
   "codemirror_mode": {
    "name": "ipython",
    "version": 3
   },
   "file_extension": ".py",
   "mimetype": "text/x-python",
   "name": "python",
   "nbconvert_exporter": "python",
   "pygments_lexer": "ipython3",
   "version": "3.11.9"
  }
 },
 "nbformat": 4,
 "nbformat_minor": 2
}
